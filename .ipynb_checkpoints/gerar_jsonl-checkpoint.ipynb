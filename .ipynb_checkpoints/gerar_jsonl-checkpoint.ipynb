{
 "cells": [
  {
   "cell_type": "code",
   "execution_count": 12,
   "id": "2710978d-c76a-4645-b54e-38ac43ad0aa6",
   "metadata": {},
   "outputs": [],
   "source": [
    "import json"
   ]
  },
  {
   "cell_type": "code",
   "execution_count": 14,
   "id": "2a99f049-cc7c-4433-96f3-3995bc13cc76",
   "metadata": {},
   "outputs": [],
   "source": [
    "with open(\"dados.json\", \"r\", encoding=\"utf-8\") as f:\n",
    "    dados = json.load(f)\n",
    "\n",
    "with open(\"fine_tuning_data.jsonl\", \"w\", encoding=\"utf-8\") as out:\n",
    "    for item in dados:\n",
    "        if item[\"NFR_Tipo\"] and item[\"NFR_Sentença\"]:\n",
    "            prompt = f\"Sugira um NFR para a tarefa: {item['Tarefa_mapeada']} - {item['Tarefa_original']} (Módulo: {item['Modulo']}, Operação: {item['Operacao']}, Camada: {item['Camada']}, Linguagem: {item['Linguagem']})\"\n",
    "            completion = f\"NFR_Tipo: {item['NFR_Tipo']}\\nNFR_Atributo: {item['NFR_Atributo']}\\nNFR_Sentença: {item['NFR_Sentença']}\"\n",
    "            record = {\n",
    "                \"messages\": [\n",
    "                    {\"role\": \"system\", \"content\": \"Você é um especialista em engenharia de software.\"},\n",
    "                    {\"role\": \"user\", \"content\": prompt},\n",
    "                    {\"role\": \"assistant\", \"content\": completion}\n",
    "                ]\n",
    "            }\n",
    "            out.write(json.dumps(record, ensure_ascii=False) + \"\\n\")"
   ]
  }
 ],
 "metadata": {
  "kernelspec": {
   "display_name": "Python [conda env:base] *",
   "language": "python",
   "name": "conda-base-py"
  },
  "language_info": {
   "codemirror_mode": {
    "name": "ipython",
    "version": 3
   },
   "file_extension": ".py",
   "mimetype": "text/x-python",
   "name": "python",
   "nbconvert_exporter": "python",
   "pygments_lexer": "ipython3",
   "version": "3.12.7"
  }
 },
 "nbformat": 4,
 "nbformat_minor": 5
}
