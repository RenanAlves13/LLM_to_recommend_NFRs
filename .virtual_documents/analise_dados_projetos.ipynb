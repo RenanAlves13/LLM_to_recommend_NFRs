import pandas as pd
import matplotlib.pyplot as plt
import csv
import json
import os


'''
Arquivos .csv específicos de cada projeto
'''

projeto1 = pd.read_csv("arToolsWeb_project.csv")
projeto2 = pd.read_csv("dona_plantinha_project.csv")
projeto3 = pd.read_csv("gamma_project.csv")
projeto4 = pd.read_csv("kaizen_project.csv")
projeto5 = pd.read_csv("kaizenLight_project.csv")
projeto6 = pd.read_csv("leucotronLivre_project.csv")
projeto7 = pd.read_csv("sam_project.csv")
projeto8 = pd.read_csv("sistemaGestao_project.csv")
projeto9 = pd.read_csv("sistemaSelecao_project.csv")
projeto10 = pd.read_csv("teamFormation_project.csv")
projeto11 = pd.read_csv("turmalinaNFRec_project.csv")
projeto12 = pd.read_csv("waterbending_project.csv")
projeto13 = pd.read_csv("webBN_project.csv")


'''
Código de cada projeto: 

    -> P1: GaMMa
    -> P2: Dona Plantinha - Web
    -> P3: Waterbending - Web
    -> P4: Sistema de Seleção
    -> P5: Sistema de Gestão
    -> P6: Turmalina NFRec
    -> P7: Team Formation
    -> P8: Kaizen
    -> P9: Kaizen Light
    -> P10: WebBN
    -> P11: LEUCOTRON-LIVRE
    -> P12: SAM
    -> P13: AR Tools Web
'''

projetos = ['P1', 'P2', 'P3', 'P4', 'P5', 'P6', 'P7', 'P8', 'P9', 'P10', 'P11', 'P12', 'P13']
quantidade_linhas = [projeto1.shape[0], projeto2.shape[0], projeto3.shape[0], projeto4.shape[0], projeto5.shape[0], projeto6.shape[0], projeto7.shape[0], projeto8.shape[0], projeto9.shape[0], projeto10.shape[0], projeto11.shape[0], projeto12.shape[0], projeto13.shape[0]]


plt.bar(projetos, quantidade_linhas, color='skyblue')

# Título e rótulos
plt.title('Quantidade de linhas por csv de cada projeto')
plt.xlabel('Projetos')
plt.ylabel('Quantidade de linhas')


'''
Salvando todos os dados dos arquivos csv em um único arquivo json
'''

csvs_path = '/home/renanzin/Documents/fpcc2/LLM_to_recommend_NFRs'

csv_files = [
    'arToolsWeb_project.csv', 'dona_plantinha_project.csv', 'gamma_project.csv',
    'kaizen_project.csv', 'kaizenLight_project.csv', 'leucotronLivre_project.csv',
    'sam_project.csv', 'sistemaGestao_project.csv', 'sistemaSelecao_project.csv',
    'teamFormation_project.csv', 'turmalinaNFRec_project.csv', 'waterbending_project.csv',
    'webBN_project.csv'
]

frames = []

for file in csv_files:
    file_path = os.path.join(csvs_path, file)
    df = pd.read_csv(file_path)
    frames.append(df)

uniqueDataFrame = pd.concat(frames, ignore_index=True)

#Salvando em um único arquivo csv
uniqueDataFrame.to_csv('DadosProjetos.csv', index=False)



allProjects = pd.read_csv('DadosProjetos.csv')


allProjects.shape


allProjects.head()


allProjects.tail()


'''
Transformando para json o arquivo csv com todos os dados dos projetos
'''

with open('DadosProjetos.csv', mode='r', encoding='utf-8') as csv_file:
    read = csv.DictReader(csv_file)
    dados = list(read)

with open('dados.json', mode='w', encoding='utf-8') as json_file:
    json.dump(dados, json_file, indent=4, ensure_ascii=False)
    
