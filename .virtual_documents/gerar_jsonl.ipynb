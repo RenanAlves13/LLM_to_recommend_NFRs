import json


with open("dados.json", "r", encoding="utf-8") as f:
    dados = json.load(f)

with open("fine_tuning_data.jsonl", "w", encoding="utf-8") as out:
    for item in dados:
        if item["NFR_Tipo"] and item["NFR_Sentença"]:
            prompt = f"Sugira um NFR para a tarefa: {item['Tarefa_mapeada']} - {item['Tarefa_original']} (Módulo: {item['Modulo']}, Operação: {item['Operacao']}, Camada: {item['Camada']}, Linguagem: {item['Linguagem']})"
            completion = f"NFR_Tipo: {item['NFR_Tipo']}\nNFR_Atributo: {item['NFR_Atributo']}\nNFR_Sentença: {item['NFR_Sentença']}"
            record = {
                "messages": [
                    {"role": "system", "content": "Você é um especialista em engenharia de software."},
                    {"role": "user", "content": prompt},
                    {"role": "assistant", "content": completion}
                ]
            }
            out.write(json.dumps(record, ensure_ascii=False) + "\n")
