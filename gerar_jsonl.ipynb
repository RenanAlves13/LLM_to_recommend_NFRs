{
 "cells": [
  {
   "cell_type": "code",
   "execution_count": 3,
   "id": "2710978d-c76a-4645-b54e-38ac43ad0aa6",
   "metadata": {},
   "outputs": [],
   "source": [
    "import json\n",
    "import os"
   ]
  },
  {
   "cell_type": "code",
   "execution_count": 5,
   "id": "5877a2eb-0a63-418f-b154-7365025f5f9a",
   "metadata": {},
   "outputs": [],
   "source": [
    "path_data = os.path.join(\"Data\")"
   ]
  },
  {
   "cell_type": "code",
   "execution_count": 8,
   "id": "2a99f049-cc7c-4433-96f3-3995bc13cc76",
   "metadata": {},
   "outputs": [],
   "source": [
    "'''\n",
    "Gerando o jsonl no formato suportado pela API da openai\n",
    "'''\n",
    "\n",
    "with open(f\"{path_data}\\\\dados.json\", \"r\", encoding=\"utf-8\") as f:\n",
    "    dados = json.load(f)\n",
    "\n",
    "with open(f\"{path_data}\\\\fine_tuning_data.jsonl\", \"w\", encoding=\"utf-8\") as out:\n",
    "    for item in dados:\n",
    "        prompt = (\n",
    "            f\"Sugira um requisito não funcional (NFR) para a tarefa: {item.get('Tarefa_mapeada', 'N/A')} - {item.get('Tarefa_original', 'N/A')} \"\n",
    "            f\"(Projeto: {item.get('Projeto', 'N/A')}, Módulo: {item.get('Modulo', 'N/A')}, Operação: {item.get('Operacao', 'N/A')}, \"\n",
    "            f\"Camada: {item.get('Camada', 'N/A')}, Linguagem: {item.get('Linguagem', 'N/A')}, Framework: {item.get('Framework', 'N/A')})\"\n",
    "        )\n",
    "\n",
    "        completion = (\n",
    "            f\"NFR_Tipo: {item.get('NFR_Tipo', '')}\\n\"\n",
    "            f\"NFR_Atributo: {item.get('NFR_Atributo', '')}\\n\"\n",
    "            f\"NFR_Sentença: {item.get('NFR_Sentença', '')}\"\n",
    "        )\n",
    "\n",
    "        record = {\n",
    "            \"messages\": [\n",
    "                {\"role\": \"system\", \"content\": \"Você é um especialista em engenharia de software.\"},\n",
    "                {\"role\": \"user\", \"content\": prompt},\n",
    "                {\"role\": \"assistant\", \"content\": completion}\n",
    "            ]\n",
    "        }\n",
    "\n",
    "        out.write(json.dumps(record, ensure_ascii=False) + \"\\n\")\n",
    "\n"
   ]
  }
 ],
 "metadata": {
  "kernelspec": {
   "display_name": "Python [conda env:base] *",
   "language": "python",
   "name": "conda-base-py"
  },
  "language_info": {
   "codemirror_mode": {
    "name": "ipython",
    "version": 3
   },
   "file_extension": ".py",
   "mimetype": "text/x-python",
   "name": "python",
   "nbconvert_exporter": "python",
   "pygments_lexer": "ipython3",
   "version": "3.12.7"
  }
 },
 "nbformat": 4,
 "nbformat_minor": 5
}
