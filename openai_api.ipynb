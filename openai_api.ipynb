{
 "cells": [
  {
   "cell_type": "code",
   "execution_count": 3,
   "id": "b62f9815-42f6-4d58-8312-574314f345de",
   "metadata": {},
   "outputs": [],
   "source": [
    "import json \n",
    "from openai import OpenAI\n",
    "from dotenv import load_dotenv\n",
    "import os\n",
    "import tiktoken"
   ]
  },
  {
   "cell_type": "code",
   "execution_count": 5,
   "id": "8d40ed7b-4c84-430f-bec5-410f83299833",
   "metadata": {},
   "outputs": [],
   "source": [
    "path_data = os.path.join(\"Data\")"
   ]
  },
  {
   "cell_type": "code",
   "execution_count": 7,
   "id": "4a1d2d05-1b1b-4ded-9095-dd4559d5c5cf",
   "metadata": {},
   "outputs": [],
   "source": [
    "load_dotenv(override=True)\n",
    "api_key = os.getenv('OPENAI_API_KEY')"
   ]
  },
  {
   "cell_type": "code",
   "execution_count": 9,
   "id": "19448bd9-3773-46c0-8a5f-00364cfc1b24",
   "metadata": {},
   "outputs": [],
   "source": [
    "openai = OpenAI()"
   ]
  },
  {
   "cell_type": "code",
   "execution_count": 11,
   "id": "9ba1b004-d9bb-4717-b88b-03b4ee445b75",
   "metadata": {},
   "outputs": [],
   "source": [
    "with open(f\"{path_data}\\\\dados.json\", encoding=\"utf-8\") as file:\n",
    "    dados = json.load(file)"
   ]
  },
  {
   "cell_type": "code",
   "execution_count": 21,
   "id": "cebc0d6d-2ae1-48f5-bb51-51ffa2116dff",
   "metadata": {},
   "outputs": [],
   "source": [
    "start_prompt = \"\"\"\n",
    "Seu objetivo é recomendar NFRs para projetos que ainda não possuem NFRs associados.\n",
    "Utilize como critério os campos: 'Descritivo_da_US', 'Modulo', 'Operacao',\n",
    "'Camada', 'Linguagem', 'Tarefa_mapeada' e 'Tarefa_original'.\n",
    "\n",
    "forneça uma recomendação para os campos que estão na expectativa de resposta de \n",
    "acordo com os dados informados do novo projeto.\n",
    "\n",
    "Formato esperado da resposta:\n",
    "[\n",
    "  {\n",
    "    \"Tarefa_ID\": \"TAxx\",\n",
    "    \"NFR_Tipo\": \"Reliability\",\n",
    "    \"NFR_Atributo\": \"availability\",\n",
    "    \"NFR_Sentença\": \"The system must notify users when the function is unavailable.\"\n",
    "  },\n",
    "  ...\n",
    "]\n",
    "\n",
    "A recomendação deve ser feita com base nesse novo projeto:\n",
    "[\n",
    "    {\n",
    "        \"fr\": \"Como administrador, desejo editar permissões de acesso a relatórios financeiros.\",\n",
    "        \"dominio\": \"Office/Business\",\n",
    "        \"plataforma\": \"Web\",\n",
    "        \"arquitetura\": \"Client-server\",\n",
    "        \"modulo\": \"Autenticação\",\n",
    "        \"operacao\": \"Editar_permissão\",\n",
    "        \"tecnologias\": {\"Angular\", \"TypeScript\", \"HTML\", \"CSS\"}\n",
    "    }\n",
    "]\n",
    "Aqui estão os dados:\n",
    "\"\"\""
   ]
  },
  {
   "cell_type": "code",
   "execution_count": 15,
   "id": "8ab8545c-8078-4646-ab0f-d5308721549f",
   "metadata": {},
   "outputs": [],
   "source": [
    "'''\n",
    "Contém toda a base de dados dos projetos\n",
    "'''\n",
    "\n",
    "json_data = json.dumps(dados, indent=2, ensure_ascii=False)"
   ]
  },
  {
   "cell_type": "code",
   "execution_count": 23,
   "id": "b2539ae1-b863-4055-8d06-6546b4e54e60",
   "metadata": {},
   "outputs": [
    {
     "name": "stdout",
     "output_type": "stream",
     "text": [
      "\n",
      "--- RESPOSTA ---\n",
      "\n",
      "Com base nas informações do novo projeto, aqui está uma recomendação de NFRs (Non-Functional Requirements) que podem ser associados:\n",
      "\n",
      "```json\n",
      "[\n",
      "  {\n",
      "    \"Tarefa_ID\": \"TA01\",\n",
      "    \"NFR_Tipo\": \"Security\",\n",
      "    \"NFR_Atributo\": \"authentication\",\n",
      "    \"NFR_Sentença\": \"The system must ensure that only authenticated users can edit access permissions for financial reports.\"\n",
      "  },\n",
      "  {\n",
      "    \"Tarefa_ID\": \"TA02\",\n",
      "    \"NFR_Tipo\": \"Usability\",\n",
      "    \"NFR_Atributo\": \"user interface\",\n",
      "    \"NFR_Sentença\": \"The interface for editing access permissions should be intuitive and easy to navigate for administrators.\"\n",
      "  },\n",
      "  {\n",
      "    \"Tarefa_ID\": \"TA03\",\n",
      "    \"NFR_Tipo\": \"Performance\",\n",
      "    \"NFR_Atributo\": \"response time\",\n",
      "    \"NFR_Sentença\": \"The system must respond to permission editing actions within 2 seconds under normal load conditions.\"\n",
      "  },\n",
      "  {\n",
      "    \"Tarefa_ID\": \"TA04\",\n",
      "    \"NFR_Tipo\": \"Reliability\",\n",
      "    \"NFR_Atributo\": \"availability\",\n",
      "    \"NFR_Sentença\": \"The system must achieve 99.9% uptime to ensure that administrators can edit access permissions at any time.\"\n",
      "  },\n",
      "  {\n",
      "    \"Tarefa_ID\": \"TA05\",\n",
      "    \"NFR_Tipo\": \"Maintainability\",\n",
      "    \"NFR_Atributo\": \"modularity\",\n",
      "    \"NFR_Sentença\": \"The codebase must be modular, allowing for easy updates and maintenance of the permission editing functionality.\"\n",
      "  },\n",
      "  {\n",
      "    \"Tarefa_ID\": \"TA06\",\n",
      "    \"NFR_Tipo\": \"Scalability\",\n",
      "    \"NFR_Atributo\": \"user load\",\n",
      "    \"NFR_Sentença\": \"The system should be designed to handle an increasing number of administrative users without performance degradation.\"\n",
      "  }\n",
      "]\n",
      "```\n",
      "\n",
      "Essas recomendações de NFRs cobrem aspectos como segurança, usabilidade, performance, confiabilidade, manutenibilidade e escalabilidade, todos essenciais para a funcionalidade de edição de permissões em um sistema de relatórios financeiros.\n"
     ]
    }
   ],
   "source": [
    "response = openai.chat.completions.create(\n",
    "    model=\"gpt-4o-mini\",\n",
    "    messages=[\n",
    "        {\"role\": \"system\", \"content\": \"Você é um especialista em engenharia de requisitos\"},\n",
    "        {\"role\": \"user\", \"content\": start_prompt}\n",
    "        ]\n",
    "    )\n",
    "print(\"\\n--- RESPOSTA ---\\n\")\n",
    "print(response.choices[0].message.content)"
   ]
  }
 ],
 "metadata": {
  "kernelspec": {
   "display_name": "Python [conda env:base] *",
   "language": "python",
   "name": "conda-base-py"
  },
  "language_info": {
   "codemirror_mode": {
    "name": "ipython",
    "version": 3
   },
   "file_extension": ".py",
   "mimetype": "text/x-python",
   "name": "python",
   "nbconvert_exporter": "python",
   "pygments_lexer": "ipython3",
   "version": "3.12.7"
  }
 },
 "nbformat": 4,
 "nbformat_minor": 5
}
