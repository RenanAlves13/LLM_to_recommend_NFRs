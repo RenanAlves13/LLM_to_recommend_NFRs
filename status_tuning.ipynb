{
 "cells": [
  {
   "cell_type": "code",
   "execution_count": 10,
   "id": "c8191dbf-04a2-4633-9061-bd7fadae7db8",
   "metadata": {},
   "outputs": [],
   "source": [
    "from openai import OpenAI\n",
    "from dotenv import load_dotenv\n",
    "import os"
   ]
  },
  {
   "cell_type": "code",
   "execution_count": 12,
   "id": "f09d9432-6c11-4b08-b0a5-a5e5d4a37e97",
   "metadata": {},
   "outputs": [],
   "source": [
    "load_dotenv(override=True)\n",
    "api_key = os.getenv('OPENAI_API_KEY')"
   ]
  },
  {
   "cell_type": "code",
   "execution_count": 19,
   "id": "338b4d8c-c093-4799-a018-a97162062f5a",
   "metadata": {},
   "outputs": [
    {
     "name": "stdout",
     "output_type": "stream",
     "text": [
      "Status do job: succeeded\n",
      "\n",
      "Últimos eventos:\n",
      "1744292050: The job has successfully completed\n",
      "1744292043: New fine-tuned model created\n",
      "1744292043: Checkpoint created at step 1128\n",
      "1744292043: Checkpoint created at step 564\n",
      "1744292015: Step 1691/1691: training loss=0.04\n",
      "1744292012: Step 1690/1691: training loss=0.01\n",
      "1744292012: Step 1689/1691: training loss=0.03\n",
      "1744292009: Step 1688/1691: training loss=0.03\n",
      "1744292009: Step 1687/1691: training loss=0.02\n",
      "1744292006: Step 1686/1691: training loss=0.03\n"
     ]
    }
   ],
   "source": [
    "client = OpenAI(api_key)\n",
    "\n",
    "'''\n",
    "A variável job_id é o código do JOB específico gerado ao iniciar o fine tuning\n",
    "Comando utilizado no terminal:\n",
    "    --> python treinar.py\n",
    "    Obs: o arquivo de treinamento está disponível neste repositório\n",
    "'''\n",
    "\n",
    "job_id = \"ftjob-...\"\n",
    "\n",
    "job = client.fine_tuning.jobs.retrieve(job_id)\n",
    "print(\"Status do job:\", job.status)\n",
    "\n",
    "events = client.fine_tuning.jobs.list_events(fine_tuning_job_id=job_id, limit=10)\n",
    "\n",
    "print(\"\\nÚltimos eventos:\")\n",
    "for e in events.data:\n",
    "    print(f\"{e.created_at}: {e.message}\")\n"
   ]
  },
  {
   "cell_type": "code",
   "execution_count": null,
   "id": "8cde3d99-adf7-4e5c-8c96-88a4f35703b2",
   "metadata": {},
   "outputs": [],
   "source": []
  }
 ],
 "metadata": {
  "kernelspec": {
   "display_name": "Python [conda env:base] *",
   "language": "python",
   "name": "conda-base-py"
  },
  "language_info": {
   "codemirror_mode": {
    "name": "ipython",
    "version": 3
   },
   "file_extension": ".py",
   "mimetype": "text/x-python",
   "name": "python",
   "nbconvert_exporter": "python",
   "pygments_lexer": "ipython3",
   "version": "3.12.7"
  }
 },
 "nbformat": 4,
 "nbformat_minor": 5
}
