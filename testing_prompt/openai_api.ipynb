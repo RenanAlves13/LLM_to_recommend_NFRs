{
 "cells": [
  {
   "cell_type": "code",
   "execution_count": 27,
   "id": "4bae3447-4476-4eeb-a213-56400bc391b5",
   "metadata": {},
   "outputs": [],
   "source": [
    "import os\n",
    "from dotenv import load_dotenv\n",
    "from openai import OpenAI\n",
    "import pandas as pd\n",
    "import uuid\n",
    "from ollama import Client"
   ]
  },
  {
   "cell_type": "code",
   "execution_count": 2,
   "id": "bc9d2ba3-820f-4796-86fb-92bebf4107f6",
   "metadata": {},
   "outputs": [],
   "source": [
    "load_dotenv(override=True)\n",
    "api_key = os.getenv('OPENAI_API_KEY')"
   ]
  },
  {
   "cell_type": "code",
   "execution_count": 3,
   "id": "10fb1d8b-0fb1-4d0e-9fde-7a06a8248d9b",
   "metadata": {},
   "outputs": [],
   "source": [
    "openai = OpenAI()"
   ]
  },
  {
   "cell_type": "code",
   "execution_count": 4,
   "id": "5f8061b0-71aa-4994-a0aa-39c947e40ad0",
   "metadata": {},
   "outputs": [
    {
     "data": {
      "text/plain": [
       "'\\nSerão testados quatro tipos de prompt:\\n\\n    --> Zero-shot prompting\\n    --> Few-shot prompting\\n    --> Chain-of-Thought prompting\\n    --> Role-Playing prompting\\n\\n'"
      ]
     },
     "execution_count": 4,
     "metadata": {},
     "output_type": "execute_result"
    }
   ],
   "source": [
    "'''\n",
    "Serão testados quatro tipos de prompt:\n",
    "\n",
    "    --> Zero-shot prompting\n",
    "    --> Few-shot prompting\n",
    "    --> Chain-of-Thought prompting\n",
    "    --> Role-Playing prompting\n",
    "\n",
    "'''"
   ]
  },
  {
   "cell_type": "code",
   "execution_count": 5,
   "id": "d3d55876-ec56-471a-8abd-389a49aa2963",
   "metadata": {},
   "outputs": [
    {
     "data": {
      "text/plain": [
       "'\\n\\n---------------------------------------- Zero-shot prompting --------------------------------------\\n\\n'"
      ]
     },
     "execution_count": 5,
     "metadata": {},
     "output_type": "execute_result"
    }
   ],
   "source": [
    "'''\n",
    "\n",
    "---------------------------------------- Zero-shot prompting --------------------------------------\n",
    "\n",
    "'''"
   ]
  },
  {
   "cell_type": "code",
   "execution_count": 8,
   "id": "83059c88-ba41-46d3-865e-214276abf9ee",
   "metadata": {},
   "outputs": [],
   "source": [
    "prompt = \"\"\"\n",
    "Provide a non-functional requirements recommendation for this project:\n",
    "\n",
    "[\n",
    "    {\n",
    "        \"fr\": \"Como administrador, desejo editar permissões de acesso a relatórios financeiros.\",\n",
    "        \"dominio\": \"Office/Business\",\n",
    "        \"plataforma\": \"Web\",\n",
    "        \"arquitetura\": \"Client-server\",\n",
    "        \"modulo\": \"Autenticação\",\n",
    "        \"operacao\": \"Editar_permissão\",\n",
    "        \"tecnologias\": {\"Angular\", \"TypeScript\", \"HTML\", \"CSS\"}\n",
    "    }\n",
    "]\n",
    "\"\"\""
   ]
  },
  {
   "cell_type": "code",
   "execution_count": 9,
   "id": "6892a1dd-a691-4e0a-b043-260f7b7b2f26",
   "metadata": {},
   "outputs": [
    {
     "name": "stdout",
     "output_type": "stream",
     "text": [
      "\n",
      "--- RESPOSTA ---\n",
      "\n",
      "For the project you described, here are some recommended non-functional requirements:\n",
      "\n",
      "1. **Performance**:\n",
      "   - The system should respond to permission edit requests within 2 seconds under normal load conditions. This ensures that administrators can efficiently manage access without experiencing delays.\n",
      "\n",
      "2. **Scalability**:\n",
      "   - The application should be able to support up to 100 concurrent administrators editing permissions simultaneously without degradation in performance.\n",
      "\n",
      "3. **Security**:\n",
      "   - All data transmissions related to editing permissions must be encrypted using TLS 1.2 or higher to protect sensitive financial data from unauthorized access.\n",
      "   - Role-based access control (RBAC) must be enforced to ensure that only authorized administrators can edit permissions.\n",
      "\n",
      "4. **Usability**:\n",
      "   - The interface for editing permissions should adhere to established UX design principles, ensuring that 90% of users can complete tasks without external help during usability testing.\n",
      "   - The system should provide tooltips and relevant guidance for any permission-related task to enhance the user experience.\n",
      "\n",
      "5. **Compatibility**:\n",
      "   - The web application should be fully functional on the latest versions of popular browsers, including Chrome, Firefox, Edge, and Safari.\n",
      "   - The application must degrade gracefully on older browser versions (at least two versions back) without breaking critical functionalities.\n",
      "\n",
      "6. **Reliability**:\n",
      "   - The application should have an uptime of at least 99.9% to ensure that administrators can access and edit permissions whenever necessary.\n",
      "   - Backup and recovery measures should be in place to prevent any data losses during permission edits.\n",
      "\n",
      "7. **Maintainability**:\n",
      "   - The system should be modular and follow standard coding practices so that updates and bug fixes can be implemented without any major disruptions.\n",
      "   - Documentation should be provided for both the codebase and user instructions to facilitate easier onboarding of new developers and users.\n",
      "\n",
      "8. **Auditability**:\n",
      "   - All actions related to editing permissions should be logged, capturing the user ID, timestamp, and changes made, to ensure accountability and traceability.\n",
      "\n",
      "9. **Localization**:\n",
      "   - The system should support multiple languages to accommodate a diverse user base, with an option to switch languages without requiring a page reload.\n",
      "\n",
      "By implementing these non-functional requirements, the project will not only meet functional needs but will also provide a robust, secure, and user-friendly experience for the administrators managing access to financial reports.\n"
     ]
    }
   ],
   "source": [
    "response = openai.chat.completions.create(\n",
    "    model=\"gpt-4o-mini\",\n",
    "    messages=[\n",
    "        {\"role\": \"user\", \"content\": prompt}\n",
    "        ]\n",
    "    )\n",
    "print(\"\\n--- RESPOSTA ---\\n\")\n",
    "print(response.choices[0].message.content)"
   ]
  },
  {
   "cell_type": "code",
   "execution_count": 10,
   "id": "d47ba245-edfa-4e7e-843c-732b3fb3f52d",
   "metadata": {},
   "outputs": [
    {
     "data": {
      "text/plain": [
       "'\\n\\n---------------------------------------- Few-shot prompting --------------------------------------\\n\\n'"
      ]
     },
     "execution_count": 10,
     "metadata": {},
     "output_type": "execute_result"
    }
   ],
   "source": [
    "'''\n",
    "\n",
    "---------------------------------------- Few-shot prompting --------------------------------------\n",
    "\n",
    "'''"
   ]
  },
  {
   "cell_type": "code",
   "execution_count": 13,
   "id": "abf2ef0f-f22e-4891-9e32-6de504c8f09c",
   "metadata": {},
   "outputs": [],
   "source": [
    "prompt = \"\"\"\n",
    "Provide a non-functional requirements recommendation for this project:\n",
    "\n",
    "[\n",
    "    {\n",
    "        \"fr\": \"Como administrador, desejo editar permissões de acesso a relatórios financeiros.\",\n",
    "        \"dominio\": \"Office/Business\",\n",
    "        \"plataforma\": \"Web\",\n",
    "        \"arquitetura\": \"Client-server\",\n",
    "        \"modulo\": \"Autenticação\",\n",
    "        \"operacao\": \"Editar_permissão\",\n",
    "        \"tecnologias\": {\"Angular\", \"TypeScript\", \"HTML\", \"CSS\"}\n",
    "    }\n",
    "]\n",
    "\n",
    "The recommendation must be in this format:\n",
    "[\n",
    "  {\n",
    "    \"Tarefa_ID\": \"TAxx\",\n",
    "    \"NFR_Tipo\": \"Reliability\",\n",
    "    \"NFR_Atributo\": \"availability\",\n",
    "    \"NFR_Sentença\": \"The system must notify users when the function is unavailable.\"\n",
    "  }\n",
    "]\n",
    "\"\"\""
   ]
  },
  {
   "cell_type": "code",
   "execution_count": 14,
   "id": "0ddfd28c-3770-4268-a702-95f8a73818bd",
   "metadata": {},
   "outputs": [
    {
     "name": "stdout",
     "output_type": "stream",
     "text": [
      "\n",
      "--- RESPOSTA ---\n",
      "\n",
      "Here is a non-functional requirements recommendation for the specified project:\n",
      "\n",
      "```json\n",
      "[\n",
      "  {\n",
      "    \"Tarefa_ID\": \"TA01\",\n",
      "    \"NFR_Tipo\": \"Reliability\",\n",
      "    \"NFR_Atributo\": \"availability\",\n",
      "    \"NFR_Sentença\": \"The system must notify users when the Edit permissions function is unavailable.\"\n",
      "  },\n",
      "  {\n",
      "    \"Tarefa_ID\": \"TA02\",\n",
      "    \"NFR_Tipo\": \"Performance\",\n",
      "    \"NFR_Atributo\": \"response time\",\n",
      "    \"NFR_Sentença\": \"The system must complete the permission editing operation within 2 seconds under normal load.\"\n",
      "  },\n",
      "  {\n",
      "    \"Tarefa_ID\": \"TA03\",\n",
      "    \"NFR_Tipo\": \"Usability\",\n",
      "    \"NFR_Atributo\": \"user interface\",\n",
      "    \"NFR_Sentença\": \"The editing permissions interface must be intuitive and require no more than three clicks to access the relevant functions.\"\n",
      "  },\n",
      "  {\n",
      "    \"Tarefa_ID\": \"TA04\",\n",
      "    \"NFR_Tipo\": \"Security\",\n",
      "    \"NFR_Atributo\": \"data protection\",\n",
      "    \"NFR_Sentença\": \"The system must ensure that only authorized users can access and edit financial report permissions.\"\n",
      "  },\n",
      "  {\n",
      "    \"Tarefa_ID\": \"TA05\",\n",
      "    \"NFR_Tipo\": \"Maintainability\",\n",
      "    \"NFR_Atributo\": \"modularity\",\n",
      "    \"NFR_Sentença\": \"The permission editing module must be designed to allow easy updates with minimal changes to the overall system architecture.\"\n",
      "  }\n",
      "]\n",
      "```\n"
     ]
    }
   ],
   "source": [
    "response = openai.chat.completions.create(\n",
    "    model=\"gpt-4o-mini\",\n",
    "    messages=[\n",
    "        {\"role\": \"system\", \"content\": \"You are a requirements engineer\"},\n",
    "        {\"role\": \"user\", \"content\": prompt}\n",
    "        ]\n",
    "    )\n",
    "print(\"\\n--- RESPOSTA ---\\n\")\n",
    "print(response.choices[0].message.content)"
   ]
  },
  {
   "cell_type": "code",
   "execution_count": 15,
   "id": "47a59df9-afe4-4bf6-a376-4c87db057acb",
   "metadata": {},
   "outputs": [
    {
     "data": {
      "text/plain": [
       "'\\n\\n---------------------------------------- Chain-of-Thought prompting --------------------------------------\\n\\n'"
      ]
     },
     "execution_count": 15,
     "metadata": {},
     "output_type": "execute_result"
    }
   ],
   "source": [
    "'''\n",
    "\n",
    "---------------------------------------- Chain-of-Thought prompting --------------------------------------\n",
    "\n",
    "'''"
   ]
  },
  {
   "cell_type": "code",
   "execution_count": 20,
   "id": "1fd134b0-17fe-484a-9d2c-66b496b969fc",
   "metadata": {},
   "outputs": [],
   "source": [
    "prompt = \"\"\"\n",
    "Given the structured project data below, analyze and recommend one non-functional requirement (NFR) that fits the scenario. Only recommend NFRs belonging to the following types and attributes:\n",
    "\n",
    "- Performance: response time, capacity, transit delay, efficiency compliance  \n",
    "- Reliability: availability, integrity, fault tolerance, recoverability  \n",
    "- Security: confidentiality, access control, authentication  \n",
    "\n",
    "Follow this step-by-step reasoning:\n",
    "\n",
    "1. Read the functional and contextual information:\n",
    "[\n",
    "    {\n",
    "        \"fr\": \"Como administrador, desejo editar permissões de acesso a relatórios financeiros.\",\n",
    "        \"dominio\": \"Office/Business\",\n",
    "        \"plataforma\": \"Web\",\n",
    "        \"arquitetura\": \"Client-server\",\n",
    "        \"modulo\": \"Autenticação\",\n",
    "        \"operacao\": \"Editar_permissão\",\n",
    "        \"tecnologias\": [\"Angular\", \"TypeScript\", \"HTML\", \"CSS\"]\n",
    "    }\n",
    "]\n",
    "\n",
    "2. Understand the functional requirement (FR):  \n",
    "   - It involves editing access permissions to financial reports (a sensitive business action).\n",
    "\n",
    "3. Evaluate the context:\n",
    "   - Web platform → implies network latency and browser issues.  \n",
    "   - Sensitive data (financial) → implies strong security needs.  \n",
    "   - Authentication module → related to access control and integrity.  \n",
    "   - Client-server → implies fault tolerance and API reliability.\n",
    "\n",
    "4. Choose the most relevant NFR type and attribute based on this context.\n",
    "\n",
    "5. Draft one clear NFR sentence, aligned with the selected attribute.  \n",
    "   - Example: \"The system must ensure the [ATTRIBUTE] by [MEASURE OR CONDITION].\"\n",
    "\n",
    "6. Format the final output as JSON in the structure below (only one recommendation):\n",
    "\n",
    "[\n",
    "  {\n",
    "    \"Tarefa_ID\": \"TA01\",\n",
    "    \"NFR_Tipo\": \"[Performance|Reliability|Security]\",\n",
    "    \"NFR_Atributo\": \"[attribute from allowed list]\",\n",
    "    \"NFR_Sentença\": \"...\"\n",
    "  }\n",
    "]\n",
    "\n",
    "Now generate the recommendation.\n",
    "\"\"\"\n"
   ]
  },
  {
   "cell_type": "code",
   "execution_count": 28,
   "id": "24fd760e-21b3-4513-81ef-5f2c868d8743",
   "metadata": {},
   "outputs": [],
   "source": [
    "'''\n",
    "Função para filtrar do csv com os dados de todos os projetos apenas os que contém NFRs atribuídos\n",
    "'''\n",
    "\n",
    "def filtrar_linhas_com_nfr_tipo(caminho_csv, caminho_saida):\n",
    "    try:\n",
    "        df = pd.read_csv(caminho_csv)\n",
    "\n",
    "        if \"NFR_Tipo\" not in df.columns:\n",
    "            print(\"A coluna 'NFR_Tipo' não existe no arquivo.\")\n",
    "            return\n",
    "\n",
    "        df_filtrado = df[df[\"NFR_Tipo\"].notna() & (df[\"NFR_Tipo\"].astype(str).str.strip() != \"\")]\n",
    "\n",
    "        if df_filtrado.empty:\n",
    "            print(\"Nenhuma linha com 'NFR_Tipo' preenchido foi encontrada.\")\n",
    "        else:\n",
    "            df_filtrado.to_csv(caminho_saida, index=False)\n",
    "            print(f\"Arquivo salvo em: {caminho_saida}\")\n",
    "    except Exception as e:\n",
    "        print(f\"Erro ao processar o arquivo: {e}\")"
   ]
  },
  {
   "cell_type": "code",
   "execution_count": 30,
   "id": "73d493c9-4e8e-4708-b50a-6b3837d103a4",
   "metadata": {},
   "outputs": [
    {
     "name": "stdout",
     "output_type": "stream",
     "text": [
      "Arquivo salvo em: C:\\Users\\Renanzin\\llm\\llm_nfr\\LLM_to_recommend_NFRs\\Data\\dadosNFR.csv\n"
     ]
    }
   ],
   "source": [
    "caminho_entrada = r\"C:\\Users\\Renanzin\\llm\\llm_nfr\\LLM_to_recommend_NFRs\\Data\\DadosProjetos.csv\"\n",
    "caminho_saida = r\"C:\\Users\\Renanzin\\llm\\llm_nfr\\LLM_to_recommend_NFRs\\Data\\dadosNFR.csv\"\n",
    "\n",
    "filtrar_linhas_com_nfr_tipo(caminho_entrada, caminho_saida)\n"
   ]
  },
  {
   "cell_type": "code",
   "execution_count": 21,
   "id": "e4ea3e2e-8e39-44bb-b6d5-6471a10a8b67",
   "metadata": {},
   "outputs": [
    {
     "name": "stdout",
     "output_type": "stream",
     "text": [
      "\n",
      "--- RESPOSTA ---\n",
      "\n",
      "Based on the analysis of the project data provided, the most relevant non-functional requirement focuses on security due to the sensitivity of financial reports and the need for appropriate access control. Here's the recommendation structured in JSON format:\n",
      "\n",
      "```json\n",
      "[\n",
      "  {\n",
      "    \"Tarefa_ID\": \"TA01\",\n",
      "    \"NFR_Tipo\": \"Security\",\n",
      "    \"NFR_Atributo\": \"access control\",\n",
      "    \"NFR_Sentença\": \"The system must ensure strict access control by allowing only authorized administrators to edit permissions for financial reports.\"\n",
      "  }\n",
      "]\n",
      "```\n"
     ]
    }
   ],
   "source": [
    "response = openai.chat.completions.create(\n",
    "    model=\"gpt-4o-mini\",\n",
    "    messages=[\n",
    "        {\"role\": \"system\", \"content\": \"You are a requirements engineer. Use chain-of-thought reasoning to analyze the user's input.\"},\n",
    "        {\"role\": \"user\", \"content\": prompt}\n",
    "        ]\n",
    "    )\n",
    "print(\"\\n--- RESPOSTA ---\\n\")\n",
    "print(response.choices[0].message.content)"
   ]
  }
 ],
 "metadata": {
  "kernelspec": {
   "display_name": "Python 3 (ipykernel)",
   "language": "python",
   "name": "python3"
  },
  "language_info": {
   "codemirror_mode": {
    "name": "ipython",
    "version": 3
   },
   "file_extension": ".py",
   "mimetype": "text/x-python",
   "name": "python",
   "nbconvert_exporter": "python",
   "pygments_lexer": "ipython3",
   "version": "3.12.7"
  }
 },
 "nbformat": 4,
 "nbformat_minor": 5
}
