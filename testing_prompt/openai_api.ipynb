{
 "cells": [
  {
   "cell_type": "code",
   "execution_count": 2,
   "id": "4bae3447-4476-4eeb-a213-56400bc391b5",
   "metadata": {},
   "outputs": [],
   "source": [
    "import os\n",
    "from dotenv import load_dotenv\n",
    "from openai import OpenAI"
   ]
  },
  {
   "cell_type": "code",
   "execution_count": 3,
   "id": "bc9d2ba3-820f-4796-86fb-92bebf4107f6",
   "metadata": {},
   "outputs": [],
   "source": [
    "load_dotenv(override=True)\n",
    "api_key = os.getenv('OPENAI_API_KEY')"
   ]
  },
  {
   "cell_type": "code",
   "execution_count": 4,
   "id": "10fb1d8b-0fb1-4d0e-9fde-7a06a8248d9b",
   "metadata": {},
   "outputs": [],
   "source": [
    "openai = OpenAI()"
   ]
  },
  {
   "cell_type": "code",
   "execution_count": null,
   "id": "5f8061b0-71aa-4994-a0aa-39c947e40ad0",
   "metadata": {},
   "outputs": [],
   "source": [
    "'''\n",
    "Serão testados quatro tipos de prompt:\n",
    "\n",
    "    --> Zero-shot prompting\n",
    "    --> Few-shot prompting\n",
    "    --> Chain-of-Thought prompting\n",
    "    --> Role-Playing prompting\n",
    "\n",
    "'''"
   ]
  },
  {
   "cell_type": "code",
   "execution_count": null,
   "id": "d3d55876-ec56-471a-8abd-389a49aa2963",
   "metadata": {},
   "outputs": [],
   "source": [
    "'''\n",
    "\n",
    "---------------------------------------- Zero-shot prompting --------------------------------------\n",
    "\n",
    "'''"
   ]
  },
  {
   "cell_type": "code",
   "execution_count": 5,
   "id": "83059c88-ba41-46d3-865e-214276abf9ee",
   "metadata": {},
   "outputs": [],
   "source": [
    "prompt = \"\"\"\n",
    "Give me a non-functional requirements recommendation to this project:\n",
    "\n",
    "[\n",
    "    {\n",
    "        \"fr\": \"Como administrador, desejo editar permissões de acesso a relatórios financeiros.\",\n",
    "        \"dominio\": \"Office/Business\",\n",
    "        \"plataforma\": \"Web\",\n",
    "        \"arquitetura\": \"Client-server\",\n",
    "        \"modulo\": \"Autenticação\",\n",
    "        \"operacao\": \"Editar_permissão\",\n",
    "        \"tecnologias\": {\"Angular\", \"TypeScript\", \"HTML\", \"CSS\"}\n",
    "    }\n",
    "]\n",
    "\"\"\""
   ]
  },
  {
   "cell_type": "code",
   "execution_count": 6,
   "id": "6892a1dd-a691-4e0a-b043-260f7b7b2f26",
   "metadata": {},
   "outputs": [
    {
     "name": "stdout",
     "output_type": "stream",
     "text": [
      "\n",
      "--- RESPOSTA ---\n",
      "\n",
      "For the project you described, here are some non-functional requirements recommendations:\n",
      "\n",
      "1. **Performance**:\n",
      "   - The system should be able to handle up to 100 concurrent users accessing and modifying financial report permissions without significant degradation in response time. The maximum acceptable response time for loading the permissions editing interface should be under 2 seconds.\n",
      "\n",
      "2. **Security**:\n",
      "   - Implement role-based access control (RBAC) to ensure that only authorized administrators have the ability to edit permissions. All sensitive data should be encrypted in transit and at rest using industry-standard encryption protocols (e.g., TLS for data in transit).\n",
      "\n",
      "3. **Usability**:\n",
      "   - The user interface should comply with accessibility standards (such as WCAG 2.1 AA), ensuring that all administrators, including those with disabilities, can easily navigate and use the permissions editing module.\n",
      "\n",
      "4. **Scalability**:\n",
      "   - The application should be designed to scale horizontally, allowing additional server resources to be added as the number of users or permissions to manage increases, without requiring extensive reconfiguration.\n",
      "\n",
      "5. **Maintainability**:\n",
      "   - The code should adhere to best practices for clean code and modular architecture, making it easy to maintain and update. All modules should have clear documentation to facilitate future development and maintenance efforts.\n",
      "\n",
      "6. **Reliability**:\n",
      "   - The system should maintain a 99.9% uptime, ensuring that the permissions editing functionality is available whenever needed by administrators. In case of failures, there should be a robust rollback mechanism to restore previous states of permissions.\n",
      "\n",
      "7. **Compliance**:\n",
      "   - The application must comply with relevant data protection regulations (e.g., GDPR, CCPA), ensuring that all user data is handled appropriately and that users have the right to access and erase their data.\n",
      "\n",
      "8. **Logging and Monitoring**:\n",
      "   - All access and changes to financial report permissions should be logged for audit purposes. The system should include monitoring tools to alert administrators of any suspicious activities or unauthorized access attempts.\n",
      "\n",
      "These non-functional requirements aim to ensure that the application is not only functional but also reliable, secure, and user-friendly, meeting the needs of administrators while adhering to industry standards.\n"
     ]
    }
   ],
   "source": [
    "response = openai.chat.completions.create(\n",
    "    model=\"gpt-4o-mini\",\n",
    "    messages=[\n",
    "        {\"role\": \"user\", \"content\": prompt}\n",
    "        ]\n",
    "    )\n",
    "print(\"\\n--- RESPOSTA ---\\n\")\n",
    "print(response.choices[0].message.content)"
   ]
  },
  {
   "cell_type": "code",
   "execution_count": null,
   "id": "d47ba245-edfa-4e7e-843c-732b3fb3f52d",
   "metadata": {},
   "outputs": [],
   "source": [
    "'''\n",
    "\n",
    "---------------------------------------- Few-shot prompting --------------------------------------\n",
    "\n",
    "'''"
   ]
  },
  {
   "cell_type": "code",
   "execution_count": 7,
   "id": "abf2ef0f-f22e-4891-9e32-6de504c8f09c",
   "metadata": {},
   "outputs": [],
   "source": [
    "prompt = \"\"\"\n",
    "Give me a non-functional requirements recommendation to this project:\n",
    "\n",
    "[\n",
    "    {\n",
    "        \"fr\": \"Como administrador, desejo editar permissões de acesso a relatórios financeiros.\",\n",
    "        \"dominio\": \"Office/Business\",\n",
    "        \"plataforma\": \"Web\",\n",
    "        \"arquitetura\": \"Client-server\",\n",
    "        \"modulo\": \"Autenticação\",\n",
    "        \"operacao\": \"Editar_permissão\",\n",
    "        \"tecnologias\": {\"Angular\", \"TypeScript\", \"HTML\", \"CSS\"}\n",
    "    }\n",
    "]\n",
    "\n",
    "The recommendation must be in this format:\n",
    "[\n",
    "  {\n",
    "    \"Tarefa_ID\": \"TAxx\",\n",
    "    \"NFR_Tipo\": \"Reliability\",\n",
    "    \"NFR_Atributo\": \"availability\",\n",
    "    \"NFR_Sentença\": \"The system must notify users when the function is unavailable.\"\n",
    "  }\n",
    "]\n",
    "\"\"\""
   ]
  },
  {
   "cell_type": "code",
   "execution_count": 8,
   "id": "0ddfd28c-3770-4268-a702-95f8a73818bd",
   "metadata": {},
   "outputs": [
    {
     "name": "stdout",
     "output_type": "stream",
     "text": [
      "\n",
      "--- RESPOSTA ---\n",
      "\n",
      "[\n",
      "  {\n",
      "    \"Tarefa_ID\": \"TA01\",\n",
      "    \"NFR_Tipo\": \"Usability\",\n",
      "    \"NFR_Atributo\": \"ease of use\",\n",
      "    \"NFR_Sentença\": \"The system must provide an intuitive interface for editing access permissions, ensuring that administrators can complete the task within three clicks.\"\n",
      "  },\n",
      "  {\n",
      "    \"Tarefa_ID\": \"TA02\",\n",
      "    \"NFR_Tipo\": \"Performance\",\n",
      "    \"NFR_Atributo\": \"response time\",\n",
      "    \"NFR_Sentença\": \"The system must respond to any request for editing permissions within 2 seconds under normal operating conditions.\"\n",
      "  },\n",
      "  {\n",
      "    \"Tarefa_ID\": \"TA03\",\n",
      "    \"NFR_Tipo\": \"Security\",\n",
      "    \"NFR_Atributo\": \"data integrity\",\n",
      "    \"NFR_Sentença\": \"The system must ensure that all permission changes are logged and auditable to maintain data integrity.\"\n",
      "  },\n",
      "  {\n",
      "    \"Tarefa_ID\": \"TA04\",\n",
      "    \"NFR_Tipo\": \"Reliability\",\n",
      "    \"NFR_Atributo\": \"availability\",\n",
      "    \"NFR_Sentença\": \"The system must maintain 99.5% uptime to ensure administrators can edit permissions whenever needed.\"\n",
      "  },\n",
      "  {\n",
      "    \"Tarefa_ID\": \"TA05\",\n",
      "    \"NFR_Tipo\": \"Scalability\",\n",
      "    \"NFR_Atributo\": \"user load\",\n",
      "    \"NFR_Sentença\": \"The system must support up to 100 simultaneous administrator users editing permissions without performance degradation.\"\n",
      "  }\n",
      "]\n"
     ]
    }
   ],
   "source": [
    "response = openai.chat.completions.create(\n",
    "    model=\"gpt-4o-mini\",\n",
    "    messages=[\n",
    "        {\"role\": \"system\", \"content\": \"You are a requirements engineer\"},\n",
    "        {\"role\": \"user\", \"content\": prompt}\n",
    "        ]\n",
    "    )\n",
    "print(\"\\n--- RESPOSTA ---\\n\")\n",
    "print(response.choices[0].message.content)"
   ]
  },
  {
   "cell_type": "code",
   "execution_count": null,
   "id": "47a59df9-afe4-4bf6-a376-4c87db057acb",
   "metadata": {},
   "outputs": [],
   "source": [
    "'''\n",
    "\n",
    "---------------------------------------- Chain-of-Thought prompting --------------------------------------\n",
    "\n",
    "'''"
   ]
  },
  {
   "cell_type": "code",
   "execution_count": 12,
   "id": "1fd134b0-17fe-484a-9d2c-66b496b969fc",
   "metadata": {},
   "outputs": [],
   "source": [
    "prompt = \"\"\"\n",
    "Given the project context below, analyze and recommend non-functional requirements (NFRs) step by step. Follow this thought process:\n",
    "\n",
    "1. Identify Key Functional Requirement (FR):  \n",
    "   - FR: \"Como administrador, desejo editar permissões de acesso a relatórios financeiros.\"  \n",
    "   - Translation: \"As an admin, I want to edit access permissions for financial reports.\"  \n",
    "\n",
    "2. Analyze Project Context:  \n",
    "   - Domain: Office/Business (high sensitivity for financial data).  \n",
    "   - Platform: Web (requires security and cross-browser compatibility).  \n",
    "   - Architecture: Client-server (needs reliability in API calls).  \n",
    "   - Module: Authentication (critical for permission management).  \n",
    "   - Technologies: Angular, TypeScript, HTML, CSS (frontend-focused stack).  \n",
    "\n",
    "3. Derive NFR Categories:  \n",
    "   - **Security**: Permission edits must be auditable and secure.  \n",
    "   - **Reliability**: System must handle permission updates without downtime.  \n",
    "   - **Usability**: Interface should be intuitive for admins.  \n",
    "   - **Performance**: Permission changes should reflect in real-time.  \n",
    "\n",
    "4. Select Priority NFR:  \n",
    "   - Focus on **Reliability** (critical for business systems).  \n",
    "   - Sub-attribute: **Availability** (admin actions must not be disrupted).  \n",
    "\n",
    "5. Draft NFR Sentence:  \n",
    "   - \"The system must ensure the permission-editing feature is available 99.9% of business hours, with fallback mechanisms if the service fails.\"  \n",
    "\n",
    "6. Format Output:  \n",
    "   - Use the specified JSON template.  \n",
    "\n",
    "The final recommendation must to be in this format:\n",
    "\n",
    "[\n",
    "  {\n",
    "    \"Tarefa_ID\": \"TA01\",\n",
    "    \"NFR_Tipo\": \"Reliability\",\n",
    "    \"NFR_Atributo\": \"availability\",\n",
    "    \"NFR_Sentença\": \"The system must ensure the permission-editing feature is available 99.9% of business hours, with fallback mechanisms if the service fails.\"\n",
    "  }\n",
    "]\n",
    "\n",
    "Now generate the recommendation\n",
    "\"\"\""
   ]
  },
  {
   "cell_type": "code",
   "execution_count": 13,
   "id": "e4ea3e2e-8e39-44bb-b6d5-6471a10a8b67",
   "metadata": {},
   "outputs": [
    {
     "name": "stdout",
     "output_type": "stream",
     "text": [
      "\n",
      "--- RESPOSTA ---\n",
      "\n",
      "Here’s the recommended non-functional requirement (NFR) in the specified JSON format:\n",
      "\n",
      "```json\n",
      "[\n",
      "  {\n",
      "    \"Tarefa_ID\": \"TA01\",\n",
      "    \"NFR_Tipo\": \"Reliability\",\n",
      "    \"NFR_Atributo\": \"availability\",\n",
      "    \"NFR_Sentença\": \"The system must ensure the permission-editing feature is available 99.9% of business hours, with fallback mechanisms if the service fails.\"\n",
      "  }\n",
      "]\n",
      "```\n"
     ]
    }
   ],
   "source": [
    "response = openai.chat.completions.create(\n",
    "    model=\"gpt-4o-mini\",\n",
    "    messages=[\n",
    "        {\"role\": \"system\", \"content\": \"You are a requirements engineer\"},\n",
    "        {\"role\": \"user\", \"content\": prompt}\n",
    "        ]\n",
    "    )\n",
    "print(\"\\n--- RESPOSTA ---\\n\")\n",
    "print(response.choices[0].message.content)"
   ]
  }
 ],
 "metadata": {
  "kernelspec": {
   "display_name": "Python 3 (ipykernel)",
   "language": "python",
   "name": "python3"
  },
  "language_info": {
   "codemirror_mode": {
    "name": "ipython",
    "version": 3
   },
   "file_extension": ".py",
   "mimetype": "text/x-python",
   "name": "python",
   "nbconvert_exporter": "python",
   "pygments_lexer": "ipython3",
   "version": "3.12.7"
  }
 },
 "nbformat": 4,
 "nbformat_minor": 5
}
